






























































from IPython.display import YouTubeVideo
YouTubeVideo('kM9zcfRtOqo')









































%matplotlib inline
import numpy as np
import matplotlib.pyplot as plt

from mandlebrot import mandelbrot

x = np.linspace(-2.25, 0.75, 500)
y = np.linspace(-1.25, 1.25, 500)
output = mandelbrot(x, y, 200, False)

plt.imshow(output)


import numpy as np
from mandlebrot import mandelbrot

def test_mandelbrot_small():
    x = np.linspace(-2.25, 0.75, 10)
    y = np.linspace(-1.25, 1.25, 10)
    output = mandelbrot(x, y, 100, False)
    assert output.shape == (10, 10)

def test_mandelbrot_zero_outside():
    # The Mandelbrot set should be zero outside the "active" area
    x = np.linspace(1.5, 2.0, 10)
    y = np.linspace(1.5, 2.0, 10)
    output = mandelbrot(x, y, 100, False)
    assert np.all(output == 0.0)

def test_mandelbrot_incorrect_test():
    x = np.linspace(-1.5, -2.0, 10)
    y = np.linspace(-1.25, 1.25, 10)
    output = mandelbrot(x, y, 100, False)
    assert np.all(output == 0.0)
  


test_mandelbrot_small()


test_mandelbrot_zero_outside()


test_mandelbrot_incorrect_test()








!py.test











small_noise = 1e-6 * np.random.rand(10, 10)
np.testing.assert_almost_equal(small_noise, 0.0, decimal=5)  # OK
np.testing.assert_almost_equal(small_noise, 0.0, decimal=7)  # Will likely fail














%%writefile mymodule.py

def my_function():
    return "Surprise!"






from mymodule import my_function

my_function()



























