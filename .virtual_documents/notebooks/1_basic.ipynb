





a = 3
b = 4
a + b


a / b


a // b





print(type(a))
print(type(b))


c = a / b
type(c)


a = "some string"
type(a)





a = 15
# a has been reset to 15
a + b
